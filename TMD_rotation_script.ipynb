{
 "cells": [
  {
   "cell_type": "code",
   "execution_count": 1,
   "id": "e4d7cabb",
   "metadata": {},
   "outputs": [],
   "source": [
    "#Superimpose and measure the code between two TMDs of PDBs from two GPCRs PDBs"
   ]
  },
  {
   "cell_type": "code",
   "execution_count": 2,
   "id": "88795060",
   "metadata": {},
   "outputs": [],
   "source": [
    "from Bio.PDB import PDBParser, Superimposer, PDBIO\n",
    "import numpy as np\n",
    "\n",
    "def get_alpha_carbons(residues):\n",
    "    alpha_carbons = []\n",
    "    for residue in residues:\n",
    "        alpha_carbon = residue['CA']\n",
    "        if alpha_carbon is not None:\n",
    "            alpha_carbons.append(alpha_carbon)\n",
    "    return alpha_carbons\n",
    "\n",
    "def get_residues_by_range(chain, start_residue, end_residue):\n",
    "    residues = []\n",
    "    for residue in chain:\n",
    "        if start_residue <= residue.id[1] <= end_residue:\n",
    "            residues.append(residue)\n",
    "    return residues\n",
    "\n",
    "def calc_rotation_angle(rotation_matrix):\n",
    "    angle_of_rotation = np.arccos((np.trace(rotation_matrix) - 1) / 2.0) * (180.0 / np.pi)\n",
    "    return angle_of_rotation\n",
    "\n",
    "def calc_rmsd(atom_list1, atom_list2):\n",
    "    diff = np.array([atom_list1[i].get_coord() - atom_list2[i].get_coord() for i in range(len(atom_list1))])\n",
    "    rmsd = np.sqrt(np.sum(diff**2) / len(atom_list1))\n",
    "    return rmsd\n",
    "\n",
    "def align_and_superimpose(pdb_file1, pdb_file2, chain_id, helix_ranges, output_pdb_file):\n",
    "    # Load the two structures\n",
    "    parser = PDBParser(QUIET=True)\n",
    "    structure1 = parser.get_structure('structure1', pdb_file1)\n",
    "    structure2 = parser.get_structure('structure2', pdb_file2)\n",
    "\n",
    "    # Get the specified chains\n",
    "    chain_A1 = structure1[0][chain_id]\n",
    "    chain_A2 = structure2[0][chain_id]\n",
    "\n",
    "    fixed_residues = get_residues_by_range(chain_A1, *helix_ranges[0])\n",
    "    moving_residues = get_residues_by_range(chain_A2, *helix_ranges[0])\n",
    "\n",
    "    fixed_atoms = get_alpha_carbons(fixed_residues)\n",
    "    moving_atoms = get_alpha_carbons(moving_residues)\n",
    "\n",
    "    # Check if the number of alpha carbons is the same for both structures\n",
    "    if len(fixed_atoms) != len(moving_atoms):\n",
    "        raise ValueError(\"Error: Fixed and moving atom lists differ in size.\")\n",
    "\n",
    "    # Perform superimposition\n",
    "    superimposer = Superimposer()\n",
    "    superimposer.set_atoms(fixed_atoms, moving_atoms)\n",
    "\n",
    "    # Apply the transformation to the moving structure to align it with the fixed structure\n",
    "    superimposer.apply(structure2[0].get_atoms())\n",
    "\n",
    "    # Calculate the rotation matrix for the final superimposition\n",
    "    rotation_matrix = superimposer.rotran[0]\n",
    "\n",
    "    # Save the superimposed structure to a new PDB file\n",
    "    io = PDBIO()\n",
    "    io.set_structure(structure2)\n",
    "    io.save(output_pdb_file)\n",
    "\n",
    "    # Calculate the RMSD to determine the average rotation\n",
    "    rmsd = calc_rmsd(fixed_atoms, moving_atoms)\n",
    "\n",
    "    # Calculate the angle of rotation\n",
    "    angle_of_rotation = calc_rotation_angle(rotation_matrix)\n",
    "\n",
    "    return rmsd, angle_of_rotation"
   ]
  },
  {
   "cell_type": "code",
   "execution_count": 3,
   "id": "1f93ae41",
   "metadata": {},
   "outputs": [],
   "source": [
    "pdb_file1 = \"/Users/ayodi/OneDrive/Documents/lpa_data/newlpa_data/inactive_lpa.pdb\"\n",
    "pdb_file2 = \"/Users/ayodi/OneDrive/Documents/lpa_data/newlpa_data/activenew.pdb\"\n",
    "chain_id = \"A\"  # Replace 'A' with the chain ID of interest"
   ]
  },
  {
   "cell_type": "code",
   "execution_count": 7,
   "id": "62af4934",
   "metadata": {},
   "outputs": [
    {
     "name": "stdout",
     "output_type": "stream",
     "text": [
      "Average RMSD between the two helices: 0.94 angstroms\n",
      "Rotation Angle between the two helices: 44.28 degrees\n"
     ]
    }
   ],
   "source": [
    "# Specify the helix ranges as (start_residue, end_residue)\n",
    "helix_ranges = [(251, 265), (251, 265)]  # Add more helix ranges if needed\n",
    "output_pdb_file = \"/Users/ayodi/OneDrive/Documents/lpa_data/newlpa_data/output_superimposed.pdb\"\n",
    "try:\n",
    "    rmsd, rotation_angle = align_and_superimpose(pdb_file1, pdb_file2, chain_id, helix_ranges, output_pdb_file)\n",
    "    print(f\"Average RMSD between the two helices: {rmsd:.2f} angstroms\")\n",
    "    print(f\"Rotation Angle between the two helices: {rotation_angle:.2f} degrees\")\n",
    "except Exception as e:\n",
    "    print(\"An error occurred:\", str(e))"
   ]
  },
  {
   "cell_type": "code",
   "execution_count": null,
   "id": "efb11c86",
   "metadata": {},
   "outputs": [],
   "source": []
  }
 ],
 "metadata": {
  "kernelspec": {
   "display_name": "Python 3 (ipykernel)",
   "language": "python",
   "name": "python3"
  },
  "language_info": {
   "codemirror_mode": {
    "name": "ipython",
    "version": 3
   },
   "file_extension": ".py",
   "mimetype": "text/x-python",
   "name": "python",
   "nbconvert_exporter": "python",
   "pygments_lexer": "ipython3",
   "version": "3.9.7"
  }
 },
 "nbformat": 4,
 "nbformat_minor": 5
}
